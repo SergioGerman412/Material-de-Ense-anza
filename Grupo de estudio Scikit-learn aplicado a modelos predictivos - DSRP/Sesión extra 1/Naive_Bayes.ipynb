{
  "nbformat": 4,
  "nbformat_minor": 0,
  "metadata": {
    "kernelspec": {
      "display_name": "Python 3",
      "language": "python",
      "name": "python3"
    },
    "language_info": {
      "codemirror_mode": {
        "name": "ipython",
        "version": 3
      },
      "file_extension": ".py",
      "mimetype": "text/x-python",
      "name": "python",
      "nbconvert_exporter": "python",
      "pygments_lexer": "ipython3",
      "version": "3.7.5"
    },
    "colab": {
      "name": "Naive_Bayes.ipynb",
      "provenance": [],
      "collapsed_sections": []
    }
  },
  "cells": [
    {
      "cell_type": "markdown",
      "metadata": {
        "id": "gntRVr93v5bS"
      },
      "source": [
        "# Clasificación Naive Bayes usando el dataset de la competencia de Kaggle (el problema del Titanic)\n"
      ]
    },
    {
      "cell_type": "markdown",
      "metadata": {
        "id": "63BgzqwPv5bc"
      },
      "source": [
        "En este notebook desarrollaremos el problema del Titanic. Este dataset es el más popular entre todos los que quieren iniciar en este mundo de la Ciencia de Datos. Buscamos predecir si un pasajero, con ciertas caractéristicas, sobrevivió o no a esta tragedia ocurrida en el siglo 20.\n",
        "\n",
        "El link de la competencia es: https://www.kaggle.com/c/titanic"
      ]
    },
    {
      "cell_type": "code",
      "metadata": {
        "id": "m6OYvTBFv5bX"
      },
      "source": [
        "import pandas as pd\n",
        "import numpy as np\n",
        "import matplotlib.pyplot as plt\n",
        "\n",
        "#Usualmente salen advertencias de actualizaciones pasadas de las librerías, las ignoramos por ahora...\n",
        "import warnings\n",
        "warnings.filterwarnings('ignore')"
      ],
      "execution_count": null,
      "outputs": []
    },
    {
      "cell_type": "code",
      "metadata": {
        "id": "yIplEOHeWHYa"
      },
      "source": [
        "#Importamos dos dataset para esta competencia el train y summit\n",
        "train = pd.read_csv('https://raw.githubusercontent.com/HackSpacePeru/Datasets_intro_Data_Science/master/Titanic/train_preproc_titanic.csv')\n",
        "true_dataset = pd.read_csv('https://raw.githubusercontent.com/HackSpacePeru/Datasets_intro_Data_Science/master/Titanic/summit_preproc_titanic.csv')"
      ],
      "execution_count": null,
      "outputs": []
    },
    {
      "cell_type": "markdown",
      "metadata": {
        "id": "5cnjyT6XEcdP"
      },
      "source": [
        "En cada **competencia** de Ciencia de Datos se presenta al concursante un conjunto de datos **sin target** exclusivamente con el objetivo de completar este dato faltante. Por lo tanto este conjunto de datos denominado **true_dataset** no se utiliza en el entrenamiento."
      ]
    },
    {
      "cell_type": "markdown",
      "source": [
        "##**Algoritmo Naive Bayes**"
      ],
      "metadata": {
        "id": "eIH4UT1Pxhr5"
      }
    },
    {
      "cell_type": "markdown",
      "source": [
        "El clasificador Naive Bayes asume que el efecto de una característica particular en una clase es independiente de otras características. Se basa en el teorema de bayes, click en el siguiente link para más información https://es.wikipedia.org/wiki/Teorema_de_Bayes\n",
        "\n",
        "\n",
        "\n",
        "**Por ejemplo: en el caso de una manzana, es roja, alrededor de 7c de diámetro y redonda.**\n",
        "Un clasificador de Naive Bayes considera que cada una de estas características contribuye de manera independiente a la probabilidad de que esta fruta sea una manzana, independientemente de la presencia o ausencia de las otras características."
      ],
      "metadata": {
        "id": "7w-rMRaKxolv"
      }
    },
    {
      "cell_type": "markdown",
      "source": [
        " ![texto alternativo](https://drive.google.com/uc?export=view&id=19UKeIYcwDcFrukYXi3wP6NyrfryAQkt7)\n",
        "\n",
        " "
      ],
      "metadata": {
        "id": "8b0uS-592BRA"
      }
    },
    {
      "cell_type": "markdown",
      "source": [
        "**Ventaja**\n",
        "\n",
        "Una ventaja del clasificador de Naive Bayes es que solo se requiere una pequeña cantidad de datos de entrenamiento para estimar los parámetros necesarios para la clasificación"
      ],
      "metadata": {
        "id": "YBxqHAd80FUe"
      }
    },
    {
      "cell_type": "markdown",
      "source": [
        "\n",
        "El teorema de Bayes se establece matemáticamente como la siguiente ecuación:\n",
        "\n",
        "$${\\displaystyle P(A\\mid B)={\\frac {P(B\\mid A)\\,P(A)}{P(B)}},}$$\n",
        "donde $ A $ y $ B $ son eventos y $ P (B) \\neq {0} $.\n",
        "\n",
        "$P(A \\mid B) $ es una [probabilidad condicional](https://en.wikipedia.org/wiki/Conditional_probability): la probabilidad de que ocurra el evento $ A $ dado que $ B $ es verdadero.\n",
        "\n",
        "$P(B \\mid A) $ también es una probabilidad condicional: la probabilidad de que ocurra el evento $ B $ dado que $ A $ es verdadero.\n",
        "\n",
        "$P(A)$ y $P(B) $ son las probabilidades de observar $ A $ y $ B $ independientemente entre sí; esto se conoce como la [probabilidad marginal](https://en.wikipedia.org/wiki/Marginal_probability).\n"
      ],
      "metadata": {
        "id": "OUN2Lf6A0bIx"
      }
    },
    {
      "cell_type": "markdown",
      "metadata": {
        "id": "OeRX0HFg0dNx"
      },
      "source": [
        "##**Partición de la data para entrenamiento**"
      ]
    },
    {
      "cell_type": "code",
      "metadata": {
        "id": "_ImtWm5ELlIG"
      },
      "source": [
        "X = train.drop('Sobrevivio',axis=1)\n",
        "y = train['Sobrevivio']"
      ],
      "execution_count": null,
      "outputs": []
    },
    {
      "cell_type": "code",
      "metadata": {
        "id": "W076YUJhMR_v"
      },
      "source": [
        "#Realizamos la división de ambas variables\n",
        "from sklearn.model_selection import train_test_split\n",
        "X_train, X_test, y_train, y_test= train_test_split(X,y,test_size = 0.15,random_state=1) #Separa el 15% de la data para generar las predicciones"
      ],
      "execution_count": null,
      "outputs": []
    },
    {
      "cell_type": "code",
      "metadata": {
        "id": "5QsCbDrtOGjO",
        "colab": {
          "base_uri": "https://localhost:8080/"
        },
        "outputId": "a3e0640b-2290-41fe-be22-a18591cd6f03"
      },
      "source": [
        "\"CELDA N°05\"\n",
        "#Mostramos con el parámetro shape la cantidad de filas que resultaron en cada parte\n",
        "print('Para el X_train:', X_train.shape, 'y para el y_train',y_train.shape)\n",
        "print('Para el X_test:',X_test.shape,'y para el y_test',y_test.shape)"
      ],
      "execution_count": null,
      "outputs": [
        {
          "output_type": "stream",
          "name": "stdout",
          "text": [
            "Para el X_train: (757, 7) y para el y_train (757,)\n",
            "Para el X_test: (134, 7) y para el y_test (134,)\n"
          ]
        }
      ]
    },
    {
      "cell_type": "markdown",
      "metadata": {
        "id": "t2JdTlTL00H1"
      },
      "source": [
        "##**Modelo de Naive Bayes** - Clasificación usando GaussianNB"
      ]
    },
    {
      "cell_type": "markdown",
      "source": [
        "Dada una variable de clase $ y $ y un vector de característica dependiente $ x_1 $ a $ x_n $, el teorema de Bayes establece la siguiente relación:\n",
        "\n",
        "$$P(y \\mid x_1, \\dots, x_n) = \\frac{P(y) P(x_1, \\dots x_n \\mid y)} {P(x_1, \\dots, x_n)}$$\n",
        "Utilizando la suposición ingenua de independencia de que\n",
        "$$P(x_i | y, x_1, \\dots, x_{i-1}, x_{i+1}, \\dots, x_n) = P(x_i | y),$$\n",
        "para todo $ i $, esta relación se simplifica a\n",
        "$$P(y \\mid x_1, \\dots, x_n) = \\frac{P(y) \\prod_{i=1}^{n} P(x_i \\mid y)} {P(x_1, \\dots, x_n)}$$\n",
        "\n",
        "Dado que $ P (x_1, \\dots, x_n) $ es constante dada la entrada, podemos usar la siguiente regla de clasificación:\n",
        "$$P(y \\mid x_1, \\dots, x_n) \\propto P(y) \\prod_{i=1}^{n} P(x_i \\mid y)$$\n",
        "$$\\Downarrow$$ \n",
        "$$\\hat{y} = \\arg\\max_y P(y) \\prod_{i=1}^{n} P(x_i \\mid y),$$\n",
        "\n",
        "y podemos usar la estimación de [**Maximum A Posteriori**](https://en.wikipedia.org/wiki/Maximum_a_posteriori_estimation) (MAP) para estimar $ P (y) $ y $ P (x_i \\mid y) $ ; la primera es entonces la frecuencia relativa de la clase $ y $ en el conjunto de entrenamiento."
      ],
      "metadata": {
        "id": "AItE0zoC2pCu"
      }
    },
    {
      "cell_type": "markdown",
      "source": [
        "***GaussianNB ()*** implementa el algoritmo Gaussian Naive Bayes para la clasificación. **Se supone que la probabilidad de las características es gaussiana**:\n",
        "\n",
        "$$ P(x_i \\mid y) = \\frac{1}{\\sqrt{2\\pi\\sigma^2_y}} \\exp(-\\frac{(x_i - \\mu_y)^2}{2\\sigma^2_y}) $$\n",
        "\n",
        "Los parámetros $ \\sigma_y $ y $ \\mu_y $ se estiman utilizando la máxima verosimilitud."
      ],
      "metadata": {
        "id": "4G68Vb8p2tzW"
      }
    },
    {
      "cell_type": "code",
      "source": [
        "from sklearn.naive_bayes import GaussianNB"
      ],
      "metadata": {
        "id": "v4Y6kyGS3Oa-"
      },
      "execution_count": null,
      "outputs": []
    },
    {
      "cell_type": "code",
      "source": [
        "nbc = GaussianNB()"
      ],
      "metadata": {
        "id": "rwsOiS3g3PaA"
      },
      "execution_count": null,
      "outputs": []
    },
    {
      "cell_type": "code",
      "source": [
        "nbc.fit(X_train,y_train)"
      ],
      "metadata": {
        "colab": {
          "base_uri": "https://localhost:8080/"
        },
        "id": "dYwbmxx23TS4",
        "outputId": "4d914deb-ee3f-49cd-f174-73fdf89b4f95"
      },
      "execution_count": null,
      "outputs": [
        {
          "output_type": "execute_result",
          "data": {
            "text/plain": [
              "GaussianNB()"
            ]
          },
          "metadata": {},
          "execution_count": 11
        }
      ]
    },
    {
      "cell_type": "markdown",
      "source": [
        "### *Predicción, reporte de clasificación y matriz de confusión*"
      ],
      "metadata": {
        "id": "PMvRewJm3dIn"
      }
    },
    {
      "cell_type": "code",
      "source": [
        "y_pred = nbc.predict(X_test)\n",
        "mislabel = np.sum((y_test!=y_pred))\n",
        "print(\"La cantidad total de puntos de datos mal etiquetados de {} muestras de prueba es {}\".format(len(y_test),mislabel))"
      ],
      "metadata": {
        "colab": {
          "base_uri": "https://localhost:8080/"
        },
        "id": "GCwqxI_v3uDy",
        "outputId": "cd78484d-b74e-4a29-bcd6-a5c78d0d0dd3"
      },
      "execution_count": null,
      "outputs": [
        {
          "output_type": "stream",
          "name": "stdout",
          "text": [
            "La cantidad total de puntos de datos mal etiquetados de 134 muestras de prueba es 27\n"
          ]
        }
      ]
    },
    {
      "cell_type": "markdown",
      "source": [
        "### *Matriz de confusión*"
      ],
      "metadata": {
        "id": "AvNnudXG4YSH"
      }
    },
    {
      "cell_type": "code",
      "source": [
        "!pip install -q scikit-plot\n",
        "import scikitplot as skplt #\n",
        "skplt.metrics.plot_confusion_matrix(y_test,y_pred, figsize=(4,4))"
      ],
      "metadata": {
        "colab": {
          "base_uri": "https://localhost:8080/",
          "height": 281
        },
        "id": "dJMzKNlA4TWQ",
        "outputId": "9c4b43e2-e27c-48a8-80e2-8d5aac3888b3"
      },
      "execution_count": null,
      "outputs": [
        {
          "output_type": "execute_result",
          "data": {
            "text/plain": [
              "<matplotlib.axes._subplots.AxesSubplot at 0x7fef937ed890>"
            ]
          },
          "metadata": {},
          "execution_count": 18
        },
        {
          "output_type": "display_data",
          "data": {
            "image/png": "[encoded data removed]",
            "text/plain": [
              "<Figure size 288x288 with 2 Axes>"
            ]
          },
          "metadata": {
            "needs_background": "light"
          }
        }
      ]
    },
    {
      "cell_type": "markdown",
      "metadata": {
        "id": "CtY4Fv051EyZ"
      },
      "source": [
        "### *Score del Modelo Naive Bayes*"
      ]
    },
    {
      "cell_type": "code",
      "metadata": {
        "id": "-oWjADzMQKPS",
        "colab": {
          "base_uri": "https://localhost:8080/"
        },
        "outputId": "822c2b61-cda2-480a-8269-3b6f2512095c"
      },
      "source": [
        "from sklearn.metrics import accuracy_score\n",
        "print('El accuracy para mi modelo de Naive Bayes es :{0:.2f}'.format(accuracy_score(y_test,y_pred))) "
      ],
      "execution_count": null,
      "outputs": [
        {
          "output_type": "stream",
          "name": "stdout",
          "text": [
            "El accuracy para mi modelo de Naive Bayes es :0.80\n"
          ]
        }
      ]
    },
    {
      "cell_type": "code",
      "source": [
        "from sklearn.metrics import classification_report \n",
        "print(\"El informe de clasificación es el siguiente...\\n\")\n",
        "print(classification_report(y_test,y_pred))"
      ],
      "metadata": {
        "colab": {
          "base_uri": "https://localhost:8080/"
        },
        "id": "Jky40H1Q4zG8",
        "outputId": "92ee5ed3-ba17-41bd-f5aa-74491d4c9e12"
      },
      "execution_count": null,
      "outputs": [
        {
          "output_type": "stream",
          "name": "stdout",
          "text": [
            "El informe de clasificación es el siguiente...\n",
            "\n",
            "              precision    recall  f1-score   support\n",
            "\n",
            "           0       0.80      0.88      0.84        80\n",
            "           1       0.79      0.69      0.73        54\n",
            "\n",
            "    accuracy                           0.80       134\n",
            "   macro avg       0.80      0.78      0.79       134\n",
            "weighted avg       0.80      0.80      0.80       134\n",
            "\n"
          ]
        }
      ]
    }
  ]
}