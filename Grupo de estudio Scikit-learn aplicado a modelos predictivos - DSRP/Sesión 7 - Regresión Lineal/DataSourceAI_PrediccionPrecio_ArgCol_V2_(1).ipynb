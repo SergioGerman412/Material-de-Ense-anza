{
  "nbformat": 4,
  "nbformat_minor": 0,
  "metadata": {
    "colab": {
      "name": "DataSourceAI_PrediccionPrecio_ArgCol_V2 (1).ipynb",
      "provenance": [],
      "collapsed_sections": []
    },
    "kernelspec": {
      "name": "python3",
      "display_name": "Python 3"
    },
    "accelerator": "TPU"
  },
  "cells": [
    {
      "cell_type": "markdown",
      "metadata": {
        "id": "nWi-0Oj5uSF4"
      },
      "source": [
        "# **Presentación del caso**"
      ]
    },
    {
      "cell_type": "markdown",
      "metadata": {
        "id": "BuNsv4aMuYxk"
      },
      "source": [
        "Predecir o estimar el precio de una vivienda puede ser de gran ayuda a la hora  de tomar decisiones importantes tales como la adquisición de casa propia . A continuación se presenta un dataset compuesto por **25, 660 registros** para **Argentina y Colombia** adjunto a las siguientes **10 variables**: info original [aquí](https://www.datasource.ai/es/home/data-science-competitions-for-startups/prediccion-de-precios-de-apartamentos-en-argentina-y-colombia)\n",
        "\n",
        "    1.   pais : \"Argentina\", \"Colombia\"\n",
        "    2.   provincia_departamento: Provincia o departamento (no ambas)  donde se ubica el departamento\n",
        "    3.   ciudad: Ciudad donde se ubica el departamento\n",
        "    4.   property_type: \"Departamento\", \"Apartamento\"\n",
        "    5.   operation_type: \"Venta\", \"Alquiler\"\n",
        "    6.   rooms: cantidad de espacios en general dentro del apartamento\n",
        "    7.   bedrooms: cantidad de cuartos donde dormir dentro del apartamento\n",
        "    8.   bathrooms: cantidad de baños dentro del apartamento\n",
        "    9.   surface_total: área total en metros cuadrados del departamento\n",
        "    10.  currency: USD (dólar americano)\n",
        "\n",
        "![Image of Yaktocat](https://www.datasource.ai/uploads/7c2c64c37b855715637538ef4f19a46d.png)"
      ]
    },
    {
      "cell_type": "markdown",
      "metadata": {
        "id": "UVXIYLgptpI7"
      },
      "source": [
        "# **Lectura de los datos**"
      ]
    },
    {
      "cell_type": "code",
      "metadata": {
        "id": "X_b6A4dFtWtf"
      },
      "source": [
        "import pandas as pd\n",
        "tipo_datos={'rooms': 'int', 'bedrooms': 'int', 'bathrooms': 'int', 'surface_total': 'int', 'price': 'int'}\n",
        "train=pd.read_csv(\"https://raw.githubusercontent.com/javalpe/datasets/master/train_argcol.csv\",sep=\";\", index_col='Id', dtype=tipo_datos)\n",
        "test=pd.read_csv(\"https://raw.githubusercontent.com/javalpe/datasets/master/test_argcol.csv\",sep=\";\", index_col='Id', dtype=tipo_datos)"
      ],
      "execution_count": null,
      "outputs": []
    },
    {
      "cell_type": "code",
      "metadata": {
        "id": "JL_aKONP-7y6",
        "outputId": "950d9b96-f96c-495f-f6cf-b25a4ffbe1c0",
        "colab": {
          "base_uri": "https://localhost:8080/",
          "height": 34
        }
      },
      "source": [
        "train.shape, test.shape"
      ],
      "execution_count": null,
      "outputs": [
        {
          "output_type": "execute_result",
          "data": {
            "text/plain": [
              "((25660, 11), (6416, 10))"
            ]
          },
          "metadata": {
            "tags": []
          },
          "execution_count": 2
        }
      ]
    },
    {
      "cell_type": "markdown",
      "metadata": {
        "id": "6BeAJ_Q8uO4N"
      },
      "source": [
        "# **Preprocesamiento de los datos**"
      ]
    },
    {
      "cell_type": "markdown",
      "metadata": {
        "id": "G9kO4LXHyvfu"
      },
      "source": [
        "## I. *Verificación de datos perdidos*"
      ]
    },
    {
      "cell_type": "code",
      "metadata": {
        "id": "BtyIde-5gh48",
        "outputId": "5880950f-9d6f-4130-b746-220ddb6156eb",
        "colab": {
          "base_uri": "https://localhost:8080/",
          "height": 204
        }
      },
      "source": [
        "for col in train.columns:\n",
        "  print('En la columna',col,'hay',train[col].isna().sum(),'valores nulos')"
      ],
      "execution_count": null,
      "outputs": [
        {
          "output_type": "stream",
          "text": [
            "En la columna pais hay 0 valores nulos\n",
            "En la columna provincia_departamento hay 0 valores nulos\n",
            "En la columna ciudad hay 0 valores nulos\n",
            "En la columna property_type hay 0 valores nulos\n",
            "En la columna operation_type hay 0 valores nulos\n",
            "En la columna rooms hay 0 valores nulos\n",
            "En la columna bedrooms hay 0 valores nulos\n",
            "En la columna bathrooms hay 0 valores nulos\n",
            "En la columna surface_total hay 0 valores nulos\n",
            "En la columna currency hay 0 valores nulos\n",
            "En la columna price hay 0 valores nulos\n"
          ],
          "name": "stdout"
        }
      ]
    },
    {
      "cell_type": "code",
      "metadata": {
        "id": "7M0UCkZHzd9x",
        "outputId": "16eef32e-8b2c-44be-9eda-5551377cb8f9",
        "colab": {
          "base_uri": "https://localhost:8080/",
          "height": 187
        }
      },
      "source": [
        "for col in test.columns:\n",
        "  print('En la columna',col,'hay',test[col].isna().sum(),'valores nulos')"
      ],
      "execution_count": null,
      "outputs": [
        {
          "output_type": "stream",
          "text": [
            "En la columna pais hay 0 valores nulos\n",
            "En la columna provincia_departamento hay 0 valores nulos\n",
            "En la columna ciudad hay 0 valores nulos\n",
            "En la columna property_type hay 0 valores nulos\n",
            "En la columna operation_type hay 0 valores nulos\n",
            "En la columna rooms hay 0 valores nulos\n",
            "En la columna bedrooms hay 0 valores nulos\n",
            "En la columna bathrooms hay 0 valores nulos\n",
            "En la columna surface_total hay 0 valores nulos\n",
            "En la columna currency hay 0 valores nulos\n"
          ],
          "name": "stdout"
        }
      ]
    },
    {
      "cell_type": "markdown",
      "metadata": {
        "id": "FiHB3qp3Aaua"
      },
      "source": [
        "## II. *Verificación de outliers*"
      ]
    },
    {
      "cell_type": "markdown",
      "metadata": {
        "id": "PTGbnH0xCant"
      },
      "source": [
        "Para el presente caso, la variable más susceptible a error de valores muy por encima del promedio es la **columna surface_total**"
      ]
    },
    {
      "cell_type": "code",
      "metadata": {
        "id": "LnWj71eSCx6A"
      },
      "source": [
        "outliers_train = train[train['surface_total'] > train['surface_total'].quantile(.95)].index\n",
        "train.loc[outliers_train,'surface_total'] = train['surface_total'].quantile(.95)"
      ],
      "execution_count": null,
      "outputs": []
    },
    {
      "cell_type": "code",
      "metadata": {
        "id": "JgDndpWb0DKq"
      },
      "source": [
        "outliers_test = test[test['surface_total'] > test['surface_total'].quantile(.95)].index\n",
        "test.loc[outliers_test,'surface_total'] = test['surface_total'].quantile(.95)"
      ],
      "execution_count": null,
      "outputs": []
    },
    {
      "cell_type": "markdown",
      "metadata": {
        "id": "0QH6PenWT9tl"
      },
      "source": [
        "## III. *Merge con data externa*"
      ]
    },
    {
      "cell_type": "code",
      "metadata": {
        "id": "pHY14QIIUSYm"
      },
      "source": [
        "pais_provincia=pd.read_csv(\"https://raw.githubusercontent.com/javalpe/datasets/master/pais_provincia_argcol.csv\",sep=\";\")"
      ],
      "execution_count": null,
      "outputs": []
    },
    {
      "cell_type": "markdown",
      "metadata": {
        "id": "BfmA7UYfX-If"
      },
      "source": [
        "Añadimos **nuevas columnas** al final con ayuda del método **merge**. Previamente **concatenamos el país y provincia**"
      ]
    },
    {
      "cell_type": "code",
      "metadata": {
        "id": "Gl7M0sqSEQfZ"
      },
      "source": [
        "train['pais_provincia'] = train['pais']+ \"_\" + train['provincia_departamento']\n",
        "test['pais_provincia'] = test['pais']+ \"_\" + test['provincia_departamento']"
      ],
      "execution_count": null,
      "outputs": []
    },
    {
      "cell_type": "code",
      "metadata": {
        "id": "eUAfdXb2vVL6"
      },
      "source": [
        "train= pd.merge(train, pais_provincia, on='pais_provincia', how='left')\n",
        "test= pd.merge(test, pais_provincia, on='pais_provincia', how='left')"
      ],
      "execution_count": null,
      "outputs": []
    },
    {
      "cell_type": "code",
      "metadata": {
        "id": "9oW55iFcbi3l"
      },
      "source": [
        "provincia_ciudad=pd.read_csv(\"https://raw.githubusercontent.com/javalpe/datasets/master/provincia_ciudad_argcol.csv\",sep=\";\")"
      ],
      "execution_count": null,
      "outputs": []
    },
    {
      "cell_type": "markdown",
      "metadata": {
        "id": "p8kU7PBLbvRh"
      },
      "source": [
        "Añadimos **nuevas columnas** al final con ayuda del método **merge**. Previamente **concatenamos la provincia y ciudad**"
      ]
    },
    {
      "cell_type": "code",
      "metadata": {
        "id": "eyA9ZlfObsxq"
      },
      "source": [
        "train['provincia_ciudad'] = train['provincia_departamento']+ \"_\" + train['ciudad']\n",
        "test['provincia_ciudad'] = test['provincia_departamento']+ \"_\" + test['ciudad']"
      ],
      "execution_count": null,
      "outputs": []
    },
    {
      "cell_type": "code",
      "metadata": {
        "id": "wFoBq8ZkcB4Y"
      },
      "source": [
        "train= pd.merge(train, provincia_ciudad, on='provincia_ciudad', how='left')\n",
        "test= pd.merge(test, provincia_ciudad, on='provincia_ciudad', how='left')"
      ],
      "execution_count": null,
      "outputs": []
    },
    {
      "cell_type": "markdown",
      "metadata": {
        "id": "22IFIJrOLyzA"
      },
      "source": [
        "## VI. *Preparamos los datos para el modelo*"
      ]
    },
    {
      "cell_type": "markdown",
      "metadata": {
        "id": "QyE5cfvQNLoS"
      },
      "source": [
        "Al tratarse de un modelo de **regresión** se requiere exclusivamente variables **numéricas**."
      ]
    },
    {
      "cell_type": "code",
      "metadata": {
        "id": "oPwAkUIlC1CS"
      },
      "source": [
        "train_regresion = train.loc[:,['rooms', 'bedrooms', 'bathrooms', 'surface_total','price',\n",
        "                                'promedio_provincia', 'mediana_provincia','percentil10_provincia', 'percentil25_provincia','percentil75_provincia', 'percentil90_provincia',\n",
        "                                'promedio_ciudad', 'mediana_ciudad', 'percentil10_ciudad','percentil25_ciudad', 'percentil75_ciudad', 'percentil90_ciudad']]\n",
        "test_regresion = test.loc[:,['rooms', 'bedrooms', 'bathrooms', 'surface_total',\n",
        "                                'promedio_provincia', 'mediana_provincia','percentil10_provincia', 'percentil25_provincia','percentil75_provincia', 'percentil90_provincia',\n",
        "                                'promedio_ciudad', 'mediana_ciudad', 'percentil10_ciudad','percentil25_ciudad', 'percentil75_ciudad', 'percentil90_ciudad']]"
      ],
      "execution_count": null,
      "outputs": []
    },
    {
      "cell_type": "markdown",
      "metadata": {
        "id": "3ssZUl9g35i5"
      },
      "source": [
        "Vamos a verificar la **multicolinearidad** utilizando el método del **Variance Inflation Factor(VIF)**. Para mayor información consultar la siguiente [página](https://towardsdatascience.com/multi-collinearity-in-regression-fe7a2c1467ea)"
      ]
    },
    {
      "cell_type": "code",
      "metadata": {
        "id": "3elXBMe73pDi",
        "outputId": "7ceb9542-ceda-48b3-f8cc-23fe1b258251",
        "colab": {
          "base_uri": "https://localhost:8080/",
          "height": 630
        }
      },
      "source": [
        "from statsmodels.stats.outliers_influence import variance_inflation_factor\n",
        "vif = pd.DataFrame()\n",
        "vif[\"features\"] = train_regresion.columns\n",
        "vif[\"vif_Factor\"] = [variance_inflation_factor(train_regresion.values, i) for i in range(train_regresion.shape[1])]\n",
        "vif"
      ],
      "execution_count": null,
      "outputs": [
        {
          "output_type": "stream",
          "text": [
            "/usr/local/lib/python3.6/dist-packages/statsmodels/tools/_testing.py:19: FutureWarning: pandas.util.testing is deprecated. Use the functions in the public API at pandas.testing instead.\n",
            "  import pandas.util.testing as tm\n"
          ],
          "name": "stderr"
        },
        {
          "output_type": "execute_result",
          "data": {
            "text/html": [
              "<div>\n",
              "<style scoped>\n",
              "    .dataframe tbody tr th:only-of-type {\n",
              "        vertical-align: middle;\n",
              "    }\n",
              "\n",
              "    .dataframe tbody tr th {\n",
              "        vertical-align: top;\n",
              "    }\n",
              "\n",
              "    .dataframe thead th {\n",
              "        text-align: right;\n",
              "    }\n",
              "</style>\n",
              "<table border=\"1\" class=\"dataframe\">\n",
              "  <thead>\n",
              "    <tr style=\"text-align: right;\">\n",
              "      <th></th>\n",
              "      <th>features</th>\n",
              "      <th>vif_Factor</th>\n",
              "    </tr>\n",
              "  </thead>\n",
              "  <tbody>\n",
              "    <tr>\n",
              "      <th>0</th>\n",
              "      <td>rooms</td>\n",
              "      <td>34.843577</td>\n",
              "    </tr>\n",
              "    <tr>\n",
              "      <th>1</th>\n",
              "      <td>bedrooms</td>\n",
              "      <td>34.628884</td>\n",
              "    </tr>\n",
              "    <tr>\n",
              "      <th>2</th>\n",
              "      <td>bathrooms</td>\n",
              "      <td>15.575305</td>\n",
              "    </tr>\n",
              "    <tr>\n",
              "      <th>3</th>\n",
              "      <td>surface_total</td>\n",
              "      <td>19.347542</td>\n",
              "    </tr>\n",
              "    <tr>\n",
              "      <th>4</th>\n",
              "      <td>price</td>\n",
              "      <td>3.292542</td>\n",
              "    </tr>\n",
              "    <tr>\n",
              "      <th>5</th>\n",
              "      <td>promedio_provincia</td>\n",
              "      <td>1685.049054</td>\n",
              "    </tr>\n",
              "    <tr>\n",
              "      <th>6</th>\n",
              "      <td>mediana_provincia</td>\n",
              "      <td>2965.048558</td>\n",
              "    </tr>\n",
              "    <tr>\n",
              "      <th>7</th>\n",
              "      <td>percentil10_provincia</td>\n",
              "      <td>1405.652831</td>\n",
              "    </tr>\n",
              "    <tr>\n",
              "      <th>8</th>\n",
              "      <td>percentil25_provincia</td>\n",
              "      <td>3393.510908</td>\n",
              "    </tr>\n",
              "    <tr>\n",
              "      <th>9</th>\n",
              "      <td>percentil75_provincia</td>\n",
              "      <td>3603.473506</td>\n",
              "    </tr>\n",
              "    <tr>\n",
              "      <th>10</th>\n",
              "      <td>percentil90_provincia</td>\n",
              "      <td>1805.472914</td>\n",
              "    </tr>\n",
              "    <tr>\n",
              "      <th>11</th>\n",
              "      <td>promedio_ciudad</td>\n",
              "      <td>6265.647495</td>\n",
              "    </tr>\n",
              "    <tr>\n",
              "      <th>12</th>\n",
              "      <td>mediana_ciudad</td>\n",
              "      <td>1048.842761</td>\n",
              "    </tr>\n",
              "    <tr>\n",
              "      <th>13</th>\n",
              "      <td>percentil10_ciudad</td>\n",
              "      <td>307.104331</td>\n",
              "    </tr>\n",
              "    <tr>\n",
              "      <th>14</th>\n",
              "      <td>percentil25_ciudad</td>\n",
              "      <td>1.039152</td>\n",
              "    </tr>\n",
              "    <tr>\n",
              "      <th>15</th>\n",
              "      <td>percentil75_ciudad</td>\n",
              "      <td>1138.732147</td>\n",
              "    </tr>\n",
              "    <tr>\n",
              "      <th>16</th>\n",
              "      <td>percentil90_ciudad</td>\n",
              "      <td>592.653562</td>\n",
              "    </tr>\n",
              "  </tbody>\n",
              "</table>\n",
              "</div>"
            ],
            "text/plain": [
              "                 features   vif_Factor\n",
              "0                   rooms    34.843577\n",
              "1                bedrooms    34.628884\n",
              "2               bathrooms    15.575305\n",
              "3           surface_total    19.347542\n",
              "4                   price     3.292542\n",
              "5      promedio_provincia  1685.049054\n",
              "6       mediana_provincia  2965.048558\n",
              "7   percentil10_provincia  1405.652831\n",
              "8   percentil25_provincia  3393.510908\n",
              "9   percentil75_provincia  3603.473506\n",
              "10  percentil90_provincia  1805.472914\n",
              "11        promedio_ciudad  6265.647495\n",
              "12         mediana_ciudad  1048.842761\n",
              "13     percentil10_ciudad   307.104331\n",
              "14     percentil25_ciudad     1.039152\n",
              "15     percentil75_ciudad  1138.732147\n",
              "16     percentil90_ciudad   592.653562"
            ]
          },
          "metadata": {
            "tags": []
          },
          "execution_count": 14
        }
      ]
    },
    {
      "cell_type": "markdown",
      "metadata": {
        "id": "rgjy66N64ULS"
      },
      "source": [
        "Se evidencia que los datos externos superan por mucho el límite permisible. Así como también algunas variables originales. Para corregirlo haremos uso del **PCA** (sin considerar el precio)."
      ]
    },
    {
      "cell_type": "code",
      "metadata": {
        "id": "SCIXUJsGM6-e"
      },
      "source": [
        "X = train_regresion.drop('price',axis=1)\n",
        "y = train_regresion['price']"
      ],
      "execution_count": null,
      "outputs": []
    },
    {
      "cell_type": "code",
      "metadata": {
        "id": "xPdxcEqY40Oa",
        "outputId": "b27b9679-38f9-4390-d57c-47256baa3587",
        "colab": {
          "base_uri": "https://localhost:8080/",
          "height": 235
        }
      },
      "source": [
        "import numpy as np\n",
        "from sklearn.decomposition import PCA\n",
        "pca = PCA(n_components=6)\n",
        "components=pca.fit_transform(X)\n",
        "X=pd.DataFrame(data=components,columns=['PCA1','PCA2','PCA3','PCA4','PCA5','PCA6'])\n",
        "\n",
        "vif = pd.DataFrame()\n",
        "vif[\"features\"] = X.columns\n",
        "vif[\"vif_value\"] = [variance_inflation_factor(X.values, i) for i in range(X.shape[1])]\n",
        "vif"
      ],
      "execution_count": null,
      "outputs": [
        {
          "output_type": "execute_result",
          "data": {
            "text/html": [
              "<div>\n",
              "<style scoped>\n",
              "    .dataframe tbody tr th:only-of-type {\n",
              "        vertical-align: middle;\n",
              "    }\n",
              "\n",
              "    .dataframe tbody tr th {\n",
              "        vertical-align: top;\n",
              "    }\n",
              "\n",
              "    .dataframe thead th {\n",
              "        text-align: right;\n",
              "    }\n",
              "</style>\n",
              "<table border=\"1\" class=\"dataframe\">\n",
              "  <thead>\n",
              "    <tr style=\"text-align: right;\">\n",
              "      <th></th>\n",
              "      <th>features</th>\n",
              "      <th>vif_value</th>\n",
              "    </tr>\n",
              "  </thead>\n",
              "  <tbody>\n",
              "    <tr>\n",
              "      <th>0</th>\n",
              "      <td>PCA1</td>\n",
              "      <td>1.0</td>\n",
              "    </tr>\n",
              "    <tr>\n",
              "      <th>1</th>\n",
              "      <td>PCA2</td>\n",
              "      <td>1.0</td>\n",
              "    </tr>\n",
              "    <tr>\n",
              "      <th>2</th>\n",
              "      <td>PCA3</td>\n",
              "      <td>1.0</td>\n",
              "    </tr>\n",
              "    <tr>\n",
              "      <th>3</th>\n",
              "      <td>PCA4</td>\n",
              "      <td>1.0</td>\n",
              "    </tr>\n",
              "    <tr>\n",
              "      <th>4</th>\n",
              "      <td>PCA5</td>\n",
              "      <td>1.0</td>\n",
              "    </tr>\n",
              "    <tr>\n",
              "      <th>5</th>\n",
              "      <td>PCA6</td>\n",
              "      <td>1.0</td>\n",
              "    </tr>\n",
              "  </tbody>\n",
              "</table>\n",
              "</div>"
            ],
            "text/plain": [
              "  features  vif_value\n",
              "0     PCA1        1.0\n",
              "1     PCA2        1.0\n",
              "2     PCA3        1.0\n",
              "3     PCA4        1.0\n",
              "4     PCA5        1.0\n",
              "5     PCA6        1.0"
            ]
          },
          "metadata": {
            "tags": []
          },
          "execution_count": 16
        }
      ]
    },
    {
      "cell_type": "code",
      "metadata": {
        "id": "JxchGNjy6d5V"
      },
      "source": [
        "pca = PCA(n_components=6)\n",
        "components=pca.fit_transform(test_regresion)\n",
        "X_test=pd.DataFrame(data=components,columns=['PCA1','PCA2','PCA3','PCA4','PCA5','PCA6'])"
      ],
      "execution_count": null,
      "outputs": []
    },
    {
      "cell_type": "markdown",
      "metadata": {
        "id": "YNutY5DNOHNc"
      },
      "source": [
        "Finalmente, con ayuda de la librería **train_test_split** dividimos la data de **train**: 85% para entrenamiento y **15%** para validación"
      ]
    },
    {
      "cell_type": "code",
      "metadata": {
        "id": "LpNI_yiDOFyN"
      },
      "source": [
        "from sklearn.model_selection import train_test_split\n",
        "X_train, X_valid, y_train, y_valid= train_test_split(X,y,test_size = 0.15,random_state=1) "
      ],
      "execution_count": null,
      "outputs": []
    },
    {
      "cell_type": "markdown",
      "metadata": {
        "id": "xCHxmr-rN6Dc"
      },
      "source": [
        "# **Modelamiento**"
      ]
    },
    {
      "cell_type": "markdown",
      "metadata": {
        "id": "i1kZ5OB6a5Ac"
      },
      "source": [
        "Importamos las librerías de los modelos de Regresión:\n",
        "1.   Lasso\n",
        "2.   Ridge\n",
        "3.   ElasticNet\n"
      ]
    },
    {
      "cell_type": "code",
      "metadata": {
        "id": "fOCibPcMZuGX"
      },
      "source": [
        "from sklearn.metrics import mean_squared_log_error\n",
        "import numpy as np"
      ],
      "execution_count": null,
      "outputs": []
    },
    {
      "cell_type": "code",
      "metadata": {
        "id": "feooWXz0SLVU",
        "outputId": "4c08420a-739b-413b-b7c7-a67a97302c60",
        "colab": {
          "base_uri": "https://localhost:8080/",
          "height": 170
        }
      },
      "source": [
        "from sklearn.linear_model import Lasso\n",
        "for i in range(90,99):\n",
        "    lasso = Lasso(alpha=i/10000)\n",
        "    lasso.fit(X_train,y_train)\n",
        "    lasso_predictions=lasso.predict(X_valid)\n",
        "    print(\"Mi RMSLE es: \", np.sqrt(mean_squared_log_error(y_valid,abs(lasso_predictions))), \"cuando alpha es: \", i/10000)"
      ],
      "execution_count": null,
      "outputs": [
        {
          "output_type": "stream",
          "text": [
            "Mi RMSLE es:  0.7341915823917559 cuando alpha es:  0.009\n",
            "Mi RMSLE es:  0.7341915823917368 cuando alpha es:  0.0091\n",
            "Mi RMSLE es:  0.7341915823917178 cuando alpha es:  0.0092\n",
            "Mi RMSLE es:  0.7341915823916987 cuando alpha es:  0.0093\n",
            "Mi RMSLE es:  0.7341915823916797 cuando alpha es:  0.0094\n",
            "Mi RMSLE es:  0.7341915823916606 cuando alpha es:  0.0095\n",
            "Mi RMSLE es:  0.7341915823916415 cuando alpha es:  0.0096\n",
            "Mi RMSLE es:  0.7341915823916224 cuando alpha es:  0.0097\n",
            "Mi RMSLE es:  0.7341915823916033 cuando alpha es:  0.0098\n"
          ],
          "name": "stdout"
        }
      ]
    },
    {
      "cell_type": "code",
      "metadata": {
        "id": "GZ7r7h8pSUgs",
        "outputId": "f2fdb18f-f74a-4f01-f09d-3e963b698bdd",
        "colab": {
          "base_uri": "https://localhost:8080/",
          "height": 170
        }
      },
      "source": [
        "from sklearn.linear_model import Ridge\n",
        "for i in range(1,10):\n",
        "    ridge = Ridge(alpha=i/100)\n",
        "    ridge.fit(X_train,y_train)\n",
        "    ridge_predictions=ridge.predict(X_valid)\n",
        "    print(\"Mi RMSLE es: \", np.sqrt(mean_squared_log_error(y_valid,abs(ridge_predictions))), \"cuando alpha es: \", i/100)"
      ],
      "execution_count": null,
      "outputs": [
        {
          "output_type": "stream",
          "text": [
            "Mi RMSLE es:  0.7341915823934715 cuando alpha es:  0.01\n",
            "Mi RMSLE es:  0.7341915823934714 cuando alpha es:  0.02\n",
            "Mi RMSLE es:  0.7341915823934714 cuando alpha es:  0.03\n",
            "Mi RMSLE es:  0.7341915823934713 cuando alpha es:  0.04\n",
            "Mi RMSLE es:  0.7341915823934713 cuando alpha es:  0.05\n",
            "Mi RMSLE es:  0.7341915823934712 cuando alpha es:  0.06\n",
            "Mi RMSLE es:  0.7341915823934712 cuando alpha es:  0.07\n",
            "Mi RMSLE es:  0.7341915823934709 cuando alpha es:  0.08\n",
            "Mi RMSLE es:  0.7341915823934709 cuando alpha es:  0.09\n"
          ],
          "name": "stdout"
        }
      ]
    },
    {
      "cell_type": "code",
      "metadata": {
        "id": "YYZ3uZwhUESM",
        "outputId": "30dba233-7b51-4acb-ccdd-aefa131ec6da",
        "colab": {
          "base_uri": "https://localhost:8080/",
          "height": 187
        }
      },
      "source": [
        "from sklearn.linear_model import ElasticNet\n",
        "for i in range(5,15):\n",
        "    elastic = ElasticNet(alpha=i/10000,l1_ratio=0.45)\n",
        "    elastic.fit(X_train,y_train)\n",
        "    elastic_predictions=elastic.predict(X_valid)\n",
        "    print(\"Mi RMSLE es: \", np.sqrt(mean_squared_log_error(y_valid,abs(elastic_predictions))), \"cuando alpha es: \", i/10000)"
      ],
      "execution_count": null,
      "outputs": [
        {
          "output_type": "stream",
          "text": [
            "Mi RMSLE es:  0.7341915823933863 cuando alpha es:  0.0005\n",
            "Mi RMSLE es:  0.7341915823933695 cuando alpha es:  0.0006\n",
            "Mi RMSLE es:  0.7341915823933524 cuando alpha es:  0.0007\n",
            "Mi RMSLE es:  0.7341915823933354 cuando alpha es:  0.0008\n",
            "Mi RMSLE es:  0.7341915823933183 cuando alpha es:  0.0009\n",
            "Mi RMSLE es:  0.7341915823933012 cuando alpha es:  0.001\n",
            "Mi RMSLE es:  0.7341915823932842 cuando alpha es:  0.0011\n",
            "Mi RMSLE es:  0.7341915823932672 cuando alpha es:  0.0012\n",
            "Mi RMSLE es:  0.7341915823932498 cuando alpha es:  0.0013\n",
            "Mi RMSLE es:  0.7341915823932329 cuando alpha es:  0.0014\n"
          ],
          "name": "stdout"
        }
      ]
    },
    {
      "cell_type": "markdown",
      "metadata": {
        "id": "TgJLGcSOgwtZ"
      },
      "source": [
        "# **Cross Validation**"
      ]
    },
    {
      "cell_type": "code",
      "metadata": {
        "id": "vPYozpF3g3f7"
      },
      "source": [
        "from sklearn.model_selection import cross_val_score\n",
        "ridge = Ridge(alpha=0.08)\n",
        "scores = cross_val_score(ridge, X, y, cv=5)"
      ],
      "execution_count": null,
      "outputs": []
    },
    {
      "cell_type": "code",
      "metadata": {
        "id": "sdfrZZJdiTa4",
        "outputId": "f667041f-d0d7-43ce-fe5c-eb47e7f3ce93",
        "colab": {
          "base_uri": "https://localhost:8080/",
          "height": 34
        }
      },
      "source": [
        "scores"
      ],
      "execution_count": null,
      "outputs": [
        {
          "output_type": "execute_result",
          "data": {
            "text/plain": [
              "array([0.10226985, 0.11480796, 0.08793059, 0.09388797, 0.08594255])"
            ]
          },
          "metadata": {
            "tags": []
          },
          "execution_count": 24
        }
      ]
    },
    {
      "cell_type": "markdown",
      "metadata": {
        "id": "No4tfP0jb4RO"
      },
      "source": [
        "# **Generando nuestras soluciones**"
      ]
    },
    {
      "cell_type": "code",
      "metadata": {
        "id": "a4aZ_ocZV6dI"
      },
      "source": [
        "ridge = Ridge(alpha=0.08)\n",
        "ridge.fit(X_train,y_train)\n",
        "predicciones=abs(ridge.predict(X_test))"
      ],
      "execution_count": null,
      "outputs": []
    },
    {
      "cell_type": "code",
      "metadata": {
        "id": "WgDgy_JIW6xe"
      },
      "source": [
        "origin = pd.read_csv(\"https://raw.githubusercontent.com/javalpe/datasets/master/test_argcol.csv\", sep=\";\")\n",
        "origin_id=origin['Id']"
      ],
      "execution_count": null,
      "outputs": []
    },
    {
      "cell_type": "code",
      "metadata": {
        "id": "snkkECZlXB0U"
      },
      "source": [
        "respuestas_dict = {'id':origin_id,'price':predicciones}\n",
        "respuestas = pd.DataFrame(respuestas_dict)"
      ],
      "execution_count": null,
      "outputs": []
    },
    {
      "cell_type": "code",
      "metadata": {
        "id": "GOsbl21iA10n"
      },
      "source": [
        "respuestas.to_csv(\"james_valencia.csv\",index=False)"
      ],
      "execution_count": null,
      "outputs": []
    },
    {
      "cell_type": "markdown",
      "metadata": {
        "id": "Qn-E2Pj18pzg"
      },
      "source": [
        "![Image of Yaktocat](https://i.imgur.com/BaAad3q.png)"
      ]
    }
  ]
}