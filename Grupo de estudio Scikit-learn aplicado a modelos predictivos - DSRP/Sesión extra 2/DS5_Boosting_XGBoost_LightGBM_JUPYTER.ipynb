{
  "nbformat": 4,
  "nbformat_minor": 0,
  "metadata": {
    "accelerator": "TPU",
    "colab": {
      "name": "DS5_Boosting_XGBoost_LightGBM_JUPYTER.ipynb",
      "provenance": [],
      "collapsed_sections": []
    },
    "kernelspec": {
      "display_name": "Python 3",
      "language": "python",
      "name": "python3"
    },
    "language_info": {
      "codemirror_mode": {
        "name": "ipython",
        "version": 3
      },
      "file_extension": ".py",
      "mimetype": "text/x-python",
      "name": "python",
      "nbconvert_exporter": "python",
      "pygments_lexer": "ipython3",
      "version": "3.7.5"
    }
  },
  "cells": [
    {
      "cell_type": "markdown",
      "metadata": {
        "id": "In0pwYLfOEY6"
      },
      "source": [
        "# **Presentación del caso Forest Cover Type Prediction**"
      ]
    },
    {
      "cell_type": "markdown",
      "metadata": {
        "id": "CGJO0vqISLP-"
      },
      "source": [
        "Este caso muestra un conjunto de árboles y su respectivo **tipo de cobertura**. En total se han registrado un total de **15, 120 filas o registros** y en la columna *target* se registra un total de **siete (7) categorías**:\n",
        "\n",
        "1.   Spruce/Fir\n",
        "2.   Lodgepole Pine\n",
        "3.   Ponderosa Pine\n",
        "4.   Cottonwood/\n",
        "5.   Aspen\n",
        "6.   Douglas-fir\n",
        "7.   Krummholz\n",
        "\n",
        "![Image of Yaktocat](https://miro.medium.com/max/1280/1*5IhJ18EP_XuEYkHmfazNUw.jpeg)\n",
        "\n",
        "Debido a que la variable objetivo es una **categoría**, es decir no numérica (continua), los modelos de machine learning recomendados para predecir el precio de venta son **modelos de clasificasión**.\n",
        "\n",
        "Sin embargo debido a que la variable objetivo **no es binaria** sino que se ha registrado un total de **7 tipos diferentes** lo recomendable es usar **modelos más complejos**:\n",
        "\n",
        "1.   XGBoost\n",
        "2.   LigthGBM\n",
        "\n",
        "Puedes obtener más info sobre la competencia en Kaggle en el siguiente [enlace](https://www.kaggle.com/c/forest-cover-type-prediction)"
      ]
    },
    {
      "cell_type": "markdown",
      "metadata": {
        "id": "mbrCp6bO6XaB"
      },
      "source": [
        "# **Comprensión de los datos**"
      ]
    },
    {
      "cell_type": "code",
      "metadata": {
        "id": "ITI8mQZO6fRO"
      },
      "source": [
        "\"CELDA N°1\"\n",
        "#Importamos las librerías\n",
        "import pandas as pd\n",
        "import numpy as np\n",
        "import seaborn as sns\n",
        "import matplotlib.pyplot as plt\n",
        "\n",
        "from sklearn.model_selection import train_test_split\n",
        "import warnings\n",
        "warnings.filterwarnings('ignore')"
      ],
      "execution_count": null,
      "outputs": []
    },
    {
      "cell_type": "code",
      "metadata": {
        "id": "98SH2tPcsZpQ"
      },
      "source": [
        "\"CELDA N°2\"\n",
        "#Leemos los datos con el método read_csv estableciendo la variable Id como índice\n",
        "data = pd.read_csv('https://raw.githubusercontent.com/HackSpacePeru/Datasets_intro_Data_Science/master/forest_covertype_train_preprocesado.csv')"
      ],
      "execution_count": null,
      "outputs": []
    },
    {
      "cell_type": "code",
      "metadata": {
        "id": "0OsIbkanox5h"
      },
      "source": [
        "\"CELDA N°3\"\n",
        "#Comprobamos la lectura de datos a través del método head (puedes cambiarlo con tail)\n",
        "data.head()"
      ],
      "execution_count": null,
      "outputs": []
    },
    {
      "cell_type": "code",
      "metadata": {
        "id": "P9c7sB8AtzVq"
      },
      "source": [
        "\"CELDA N°4\"\n",
        "#Comprobamos rápidamente si hay vacíos y el tipo de variable\n",
        "data.info()"
      ],
      "execution_count": null,
      "outputs": []
    },
    {
      "cell_type": "markdown",
      "metadata": {
        "id": "dRmq9gsEvYjK"
      },
      "source": [
        "# **Preprocesamiento de los Datos**"
      ]
    },
    {
      "cell_type": "markdown",
      "metadata": {
        "id": "oTqiSH_Iv1Fa"
      },
      "source": [
        "## **Verificación de vacíos**"
      ]
    },
    {
      "cell_type": "code",
      "metadata": {
        "id": "cP8Z2rb2vnKt"
      },
      "source": [
        "\"CELDA N° 5\"\n",
        "#Verificación gráfica de datos perdidos con missingno\n",
        "import missingno as ms\n",
        "ms.matrix(data)"
      ],
      "execution_count": null,
      "outputs": []
    },
    {
      "cell_type": "markdown",
      "metadata": {
        "id": "lwivW1ju0-9p"
      },
      "source": [
        "Como se puede apreciar en la figura **no hay presencia de valores perdidos** en ninguna columna."
      ]
    },
    {
      "cell_type": "markdown",
      "metadata": {
        "id": "KuG-LLXZzSiA"
      },
      "source": [
        "## **Verificación de outliers**"
      ]
    },
    {
      "cell_type": "code",
      "metadata": {
        "id": "IITHaQllzXSl"
      },
      "source": [
        "\"CELDA N°6\"\n",
        "#Verificamos la existencia de outliers en las columnas numéricas\n",
        "sns.boxplot(data=data)"
      ],
      "execution_count": null,
      "outputs": []
    },
    {
      "cell_type": "markdown",
      "metadata": {
        "id": "V0flJ9kw2ju6"
      },
      "source": [
        "Como se puede apreciar en la figura **no hay presencia de outliers** en ninguna columna salvo en \"Horizontal_Distance_To_Roaddways\". Sin embargo no es signifcativo."
      ]
    },
    {
      "cell_type": "markdown",
      "metadata": {
        "id": "pdRrmkEgvbAz"
      },
      "source": [
        "## **Feature Engineering**"
      ]
    },
    {
      "cell_type": "markdown",
      "metadata": {
        "id": "N_NjbOv93TSs"
      },
      "source": [
        "### *Correlación de variables*"
      ]
    },
    {
      "cell_type": "code",
      "metadata": {
        "id": "KEZwsc033Xmv"
      },
      "source": [
        "\"CELDA N°7\"\n",
        "#Dibujamos la matriz de correlación\n",
        "sns.heatmap(data.corr())"
      ],
      "execution_count": null,
      "outputs": []
    },
    {
      "cell_type": "markdown",
      "metadata": {
        "id": "axOAuu9173ji"
      },
      "source": [
        "Como se puede apreciar en la figura **no hay presencia de correlación** entre las columnas."
      ]
    },
    {
      "cell_type": "markdown",
      "metadata": {
        "id": "XinQjXkv3AOJ"
      },
      "source": [
        "### *Label Encoding*"
      ]
    },
    {
      "cell_type": "code",
      "metadata": {
        "id": "cY17ZgxDvJuF"
      },
      "source": [
        "\"CELDA N°8\"\n",
        "#Identificamos las columnas de tipo categórica\n",
        "col_to_encoding = [col for col in data.columns if data[col].dtype == 'object']"
      ],
      "execution_count": null,
      "outputs": []
    },
    {
      "cell_type": "code",
      "metadata": {
        "id": "v-0pvN0nv5L8"
      },
      "source": [
        "\"CELDA N°9\"\n",
        "#Convertimos las palabras en números con la librería LabelEncoder\n",
        "from sklearn.preprocessing import LabelEncoder \n",
        "le = LabelEncoder()\n",
        "for col in col_to_encoding:\n",
        "  data[col] = le.fit_transform(data[col])"
      ],
      "execution_count": null,
      "outputs": []
    },
    {
      "cell_type": "code",
      "metadata": {
        "id": "zFB-v0l3sbr1"
      },
      "source": [
        "\"CELDA N°10\"\n",
        "#Comprobamos el Label Encoder sobre la columna Wilderness_Area_Type\n",
        "data['Wilderness_Area_Type'].unique()"
      ],
      "execution_count": null,
      "outputs": []
    },
    {
      "cell_type": "markdown",
      "metadata": {
        "id": "8rnOwkxA9_SI"
      },
      "source": [
        "### *Normalización*"
      ]
    },
    {
      "cell_type": "code",
      "metadata": {
        "id": "PuUZhD3e-COF"
      },
      "source": [
        "\"CELDA N°11\"\n",
        "#Aplicamos MinMaxScaler para igualar la escala (0-1) para todas las columnas predictoras\n",
        "\n",
        "X = data.drop('Cover_Type',axis=1)\n",
        "y = data['Cover_Type'] #Separamos la columna que contiene al target\n",
        "\n",
        "from sklearn.preprocessing import MinMaxScaler\n",
        "data_escalada = MinMaxScaler().fit_transform(X)\n",
        "X = pd.DataFrame(data=data_escalada, columns=X.columns) #Actualizamos la data de las columnas predictoras"
      ],
      "execution_count": null,
      "outputs": []
    },
    {
      "cell_type": "markdown",
      "metadata": {
        "id": "0aKt2hWP_cTw"
      },
      "source": [
        "# **Modelamiento**"
      ]
    },
    {
      "cell_type": "markdown",
      "metadata": {
        "id": "GD32ct1TbJmQ"
      },
      "source": [
        "### *Partición de la data: training y test*"
      ]
    },
    {
      "cell_type": "code",
      "metadata": {
        "id": "SXrRlpvMbIB-"
      },
      "source": [
        "\"CELDA N°12\"\n",
        "#Dividimos cada variable para el entrenamiento del modelo importando la lilbrería train_test_split\n",
        "from sklearn.model_selection import train_test_split\n",
        "X_train, X_test, y_train, y_test = train_test_split(X,y,test_size = 0.15,random_state=1) #Separa el 15% de la data para generar las predicciones"
      ],
      "execution_count": null,
      "outputs": []
    },
    {
      "cell_type": "markdown",
      "metadata": {
        "id": "b6Yy5HcwfIg_"
      },
      "source": [
        "### *XGBoost*"
      ]
    },
    {
      "cell_type": "code",
      "metadata": {
        "id": "bbvC-5UfsCUT"
      },
      "source": [
        "\"CELDA N°13\"\n",
        "from xgboost import XGBClassifier #Importamos las librería XGBClassifier para generar un modelo de clasificación con el método XGBoost\n",
        "xgb = XGBClassifier(learning_rate = 0.07, #indicamos un valor menor al establecido por defecto (0.1)\n",
        "                    max_depth = 4, #indicamos un valor mayor al establecido por defecto (3)\n",
        "                    min_child_weight = 3, #indicamos un valor mayor al establecido por defecto (1)\n",
        "                    objective = 'multi:softmax', #cambiamos el objetivo por tratarse de un target con más de dos categoría,\n",
        "                    num_class = 7, #especificamos el número de categorías en el target\n",
        "                    eval_metric = 'mlogloss', #cambiamos la métrica por tratarse de un target con más de dos categorías\n",
        "                    eval_set =[(X_test,y_test)], #referencia para cada iteración\n",
        "                    n_estimators = 1000, #límites del número de iteraciones en general\n",
        "                    early_stopping_rounds = 30) #indicamos un máximo de iteraciones para obtener una mejora de la métrica\n",
        "xgb.fit(X_train,y_train) #entrenamos el modelo xgboost partir de X_train, y_train\n",
        "predict_xgb = xgb.predict(X_test) #obtenemos las predicciones del modelo xgboost"
      ],
      "execution_count": null,
      "outputs": []
    },
    {
      "cell_type": "code",
      "metadata": {
        "id": "zNKWjKXKxRqJ"
      },
      "source": [
        "\"CELDA N°14\"\n",
        "#Realizamos una evaluación rápida del XGBoost con la métrica accuracy score para modelos de clasificación\n",
        "from sklearn.metrics import accuracy_score\n",
        "print(accuracy_score(y_test, predict_xgb)) #primero la data real (y_test) y luego las predicciones obtenidas del XGBoost"
      ],
      "execution_count": null,
      "outputs": []
    },
    {
      "cell_type": "markdown",
      "metadata": {
        "id": "CDwxb27BPXGH"
      },
      "source": [
        "### *LightGBM*"
      ]
    },
    {
      "cell_type": "code",
      "metadata": {
        "id": "UfD5IoMuHyPu"
      },
      "source": [
        "\"CELDA N°15\"\n",
        "import lightgbm #Importamos las librería lightgbm para generar un modelo de clasificación con el método LightGBM\n",
        "gbm = lightgbm.LGBMClassifier(learning_rate = 0.07, #indicamos un valor menor al establecido por defecto (0.1)\n",
        "                    max_depth = 4, #indicamos un valor mayor al establecido por defecto (3)\n",
        "                    min_child_weight = 3, #indicamos un valor mayor al establecido por defecto (1),\n",
        "                    objective = 'multiclass', #cambiamos el objetivo por tratarse de un target con más de dos categorías\n",
        "                    num_class = 7, #especificamos el número de categorías en el target\n",
        "                    metric = 'multi_logloss', #cambiamos la métrica por tratarse de un target con más de dos categorías\n",
        "                    eval_set =[(X_test,y_test)], #referencia para cada iteración\n",
        "                    n_estimators = 1000) #indicamos un máximo de iteraciones en general\n",
        "gbm.fit(X_train,y_train) #entrenamos el modelo lightgbm partir de X_train, y_train\n",
        "predict_gbm = gbm.predict(X_test) #obtenemos las predicciones del modelo xgboost"
      ],
      "execution_count": null,
      "outputs": []
    },
    {
      "cell_type": "code",
      "metadata": {
        "id": "L2TE8bEfx2o8"
      },
      "source": [
        "\"CELDA N°16\"\n",
        "#Realizamos una evaluación rápida del LightGBM con la métrica accuracy score para modelos de clasificación\n",
        "print(accuracy_score(y_test, predict_gbm)) #primero la data real (y_test) y luego las predicciones obtenidas del LightGBM"
      ],
      "execution_count": null,
      "outputs": []
    },
    {
      "cell_type": "markdown",
      "metadata": {
        "id": "8lNjrhjmHTU4"
      },
      "source": [
        "# **Evaluación**"
      ]
    },
    {
      "cell_type": "markdown",
      "metadata": {
        "id": "LFWHMmK9z0aS"
      },
      "source": [
        "## **Optimización de hiperparámetros para XGBoost**"
      ]
    },
    {
      "cell_type": "code",
      "metadata": {
        "id": "smYXo-PrjRZB"
      },
      "source": [
        "\"CELDA N°17\"\n",
        "#Importamos la librería GridSearchCV para optimizar los parámetros numéricos del XGBoost\n",
        "from sklearn.model_selection import GridSearchCV\n",
        "from sklearn.metrics import f1_score\n",
        "\n",
        "#Declaramos los rangos para cada uno de los parámetros entre corchetes (lista)\n",
        "parametros = {'learning_rate':[0.04, 0.06, 0.08], 'max_depth':[4,6,8], 'min_child_weight':[2,3,4]}\n",
        "\n",
        "#Finalmente entrenamos nuevamente declarando el método de scoring (métrica)\n",
        "grid_xgb = GridSearchCV(estimator = xgb,param_grid = parametros,scoring='f1-macro')\n",
        "grid_xgb.fit(X_train, y_train)"
      ],
      "execution_count": null,
      "outputs": []
    },
    {
      "cell_type": "code",
      "metadata": {
        "id": "kGFDcwdR30lN"
      },
      "source": [
        "\"CELDA N°18\"\n",
        "#Podemos visualizar los mejores perámetros y también la métrica obtenida\n",
        "print(grid_xgb.best_params_)\n",
        "print(grid_xgb.best_score_)"
      ],
      "execution_count": null,
      "outputs": []
    },
    {
      "cell_type": "markdown",
      "metadata": {
        "id": "zOmFqA8Nw149"
      },
      "source": [
        "## **Optimización de hiperparámetros para LightGBM**"
      ]
    },
    {
      "cell_type": "code",
      "metadata": {
        "id": "-bGARt69w14-"
      },
      "source": [
        "\"CELDA N°19\"\n",
        "#Finalmente entrenamos nuevamente declarando el método de scoring (métrica)\n",
        "grid_gbm = GridSearchCV(estimator = gbm,param_grid = parametros,scoring='f1-macro')\n",
        "grid_gbm.fit(X_train, y_train)"
      ],
      "execution_count": null,
      "outputs": []
    },
    {
      "cell_type": "code",
      "metadata": {
        "id": "IafvJ5Maw14-"
      },
      "source": [
        "\"CELDA N°20\"\n",
        "#Podemos visualizar los mejores perámetros y también la métrica obtenida\n",
        "print(grid_gbm.best_params_)\n",
        "print(grid_gbm.best_score_)"
      ],
      "execution_count": null,
      "outputs": []
    }
  ]
}